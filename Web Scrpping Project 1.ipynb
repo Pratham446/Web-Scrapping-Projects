{
 "cells": [
  {
   "cell_type": "code",
   "execution_count": null,
   "id": "d3a82c4c-3478-4efc-aa10-a5087a6ce2c9",
   "metadata": {},
   "outputs": [],
   "source": [
    "# requests is a Python library used to send HTTP requests easily.\n",
    "# It allows you to fetch the content of a webpage programmatically.\n",
    "# It is commonly used as the first step before parsing HTML with BeautifulSoup."
   ]
  },
  {
   "cell_type": "code",
   "execution_count": null,
   "id": "2994f4bd-89a0-4483-8aca-c24d84114940",
   "metadata": {},
   "outputs": [],
   "source": [
    "import requests\n"
   ]
  },
  {
   "cell_type": "code",
   "execution_count": null,
   "id": "b68ee2e9-a642-4f39-a38a-06f219166026",
   "metadata": {},
   "outputs": [],
   "source": [
    "# Sending a Basic GET Request"
   ]
  },
  {
   "cell_type": "code",
   "execution_count": 17,
   "id": "fb9cbf5a-084d-43c8-af18-84a47c85ebe1",
   "metadata": {},
   "outputs": [
    {
     "name": "stdout",
     "output_type": "stream",
     "text": [
      "<Response [200]>\n"
     ]
    }
   ],
   "source": [
    "import requests\n",
    "\n",
    "A = requests.get(\"https://books.toscrape.com/\")\n",
    "\n",
    "# Print the HTML content\n",
    "print(A)"
   ]
  },
  {
   "cell_type": "code",
   "execution_count": null,
   "id": "c9c6cb48-df5a-4e0e-abb7-33f3ae348e97",
   "metadata": {},
   "outputs": [],
   "source": [
    "# a good practice is always make a html folder and add al the content in that "
   ]
  },
  {
   "cell_type": "code",
   "execution_count": 38,
   "id": "6aa07476-a63f-442c-9cb1-79d0c8e04eec",
   "metadata": {},
   "outputs": [
    {
     "name": "stdout",
     "output_type": "stream",
     "text": [
      "Downloaded page 1 successfully\n",
      "Downloaded page 2 successfully\n",
      "Downloaded page 3 successfully\n",
      "Downloaded page 4 successfully\n",
      "Downloaded page 5 successfully\n",
      "Downloaded page 6 successfully\n",
      "Downloaded page 7 successfully\n",
      "Downloaded page 8 successfully\n",
      "Downloaded page 9 successfully\n",
      "Downloaded page 10 successfully\n",
      "Downloaded page 11 successfully\n",
      "Downloaded page 12 successfully\n",
      "Downloaded page 13 successfully\n",
      "Downloaded page 14 successfully\n",
      "Downloaded page 15 successfully\n",
      "Downloaded page 16 successfully\n",
      "Downloaded page 17 successfully\n",
      "Downloaded page 18 successfully\n",
      "Downloaded page 19 successfully\n",
      "Downloaded page 20 successfully\n",
      "Downloaded page 21 successfully\n",
      "Downloaded page 22 successfully\n",
      "Downloaded page 23 successfully\n",
      "Downloaded page 24 successfully\n",
      "Downloaded page 25 successfully\n",
      "Downloaded page 26 successfully\n",
      "Downloaded page 27 successfully\n",
      "Downloaded page 28 successfully\n",
      "Downloaded page 29 successfully\n",
      "Downloaded page 30 successfully\n",
      "Downloaded page 31 successfully\n",
      "Downloaded page 32 successfully\n",
      "Downloaded page 33 successfully\n",
      "Downloaded page 34 successfully\n",
      "Downloaded page 35 successfully\n",
      "Downloaded page 36 successfully\n",
      "Downloaded page 37 successfully\n",
      "Downloaded page 38 successfully\n",
      "Downloaded page 39 successfully\n",
      "Downloaded page 40 successfully\n",
      "Downloaded page 41 successfully\n",
      "Downloaded page 42 successfully\n",
      "Downloaded page 43 successfully\n",
      "Downloaded page 44 successfully\n",
      "Downloaded page 45 successfully\n",
      "Downloaded page 46 successfully\n",
      "Downloaded page 47 successfully\n",
      "Downloaded page 48 successfully\n",
      "Downloaded page 49 successfully\n",
      "Downloaded page 50 successfully\n"
     ]
    }
   ],
   "source": [
    "for i in range (1,51):\n",
    "  A = requests.get(f\"https://books.toscrape.com/catalogue/page-{i}.html\")  \n",
    "  with open (f\"htmls/page{i}.html\" ,\"w\" ,encoding=\"utf-8\") as f:\n",
    "     f.write(A.text)\n",
    "  # print(f\"Downloaded page {i} successfully\")"
   ]
  },
  {
   "cell_type": "code",
   "execution_count": 50,
   "id": "0d3224ae-b32f-44c8-8de5-b456533f2edd",
   "metadata": {},
   "outputs": [],
   "source": [
    "# for i in range (1,51):\n",
    "#     B=requests.get(\"https://books.toscrape.com/catalogue/page-1.html\")\n",
    "#     with open (f\"data.html\",\"w\",encoding=\"utf-8\") as f:\n",
    "#         f.write(B.text)\n",
    "    "
   ]
  },
  {
   "cell_type": "code",
   "execution_count": 53,
   "id": "e1aa1b52-5f7b-47d4-9e3f-970fc6f36913",
   "metadata": {},
   "outputs": [
    {
     "name": "stdout",
     "output_type": "stream",
     "text": [
      "Requirement already satisfied: beautifulsoup4 in d:\\installations\\lib\\site-packages (4.12.3)Note: you may need to restart the kernel to use updated packages.\n",
      "\n",
      "Requirement already satisfied: lxml in d:\\installations\\lib\\site-packages (5.2.1)\n",
      "Requirement already satisfied: soupsieve>1.2 in d:\\installations\\lib\\site-packages (from beautifulsoup4) (2.5)\n"
     ]
    }
   ],
   "source": [
    "pip install beautifulsoup4 lxml"
   ]
  },
  {
   "cell_type": "code",
   "execution_count": 225,
   "id": "95b5e765-7832-4907-8024-f50f1e359638",
   "metadata": {},
   "outputs": [
    {
     "name": "stdout",
     "output_type": "stream",
     "text": [
      "                                   Books  Price                Rating\n",
      "0                   A Light in the Attic  51.77  [star-rating, Three]\n",
      "1                     Tipping the Velvet  53.74    [star-rating, One]\n",
      "2                             Soumission  50.10    [star-rating, One]\n",
      "3                          Sharp Objects  47.82   [star-rating, Four]\n",
      "4  Sapiens: A Brief History of Humankind  54.23   [star-rating, Five]\n"
     ]
    }
   ],
   "source": [
    "# from bs4 import BeautifulSoup\n",
    "# for i in range(1,50):\n",
    "    \n",
    "#      with open(f\"htmls/page{i}.html\")as f:\n",
    "#         content= f.read()\n",
    "#      soup= BeautifulSoup(content,\"html.parser\")\n",
    "#      data=soup.select(\"article.product_pod\")\n",
    "\n",
    "#        items=[]\n",
    "#     for article in data:\n",
    "#         title=article.find(\"h3\").find(\"a\")[\"title\"]\n",
    "#         prize=article.select_one(\"p.price_color\").text.split(\"£\")[1]\n",
    "#         rating_element=article.select_one(\"p.star-rating\")\n",
    "#         rating=rating_element['class']\n",
    "#         items.append([title,prize,rating])\n",
    "            \n",
    "from bs4 import BeautifulSoup\n",
    "import pandas as pd\n",
    "\n",
    "items = []\n",
    "\n",
    "for i in range(1, 51):\n",
    "    with open(f\"htmls/page{i}.html\", encoding=\"utf-8\") as f:\n",
    "        content = f.read()\n",
    "    \n",
    "    soup = BeautifulSoup(content, \"html.parser\")\n",
    "    data = soup.select(\"article.product_pod\")\n",
    "\n",
    "    for article in data:\n",
    "        title = article.find(\"h3\").find(\"a\")[\"title\"]\n",
    "        price = article.select_one(\"p.price_color\").text.split(\"£\")[1]\n",
    "        rating_element=article.select_one(\"p.star-rating\")\n",
    "        rating=rating_element['class']\n",
    "        items.append([title, price, rating])\n",
    "\n",
    "# Convert to DataFrame\n",
    "df = pd.DataFrame(items, columns=[\"Books\", \"Price\", \"Rating\"])\n",
    "print(df.head())  # Optional: See sample\n"
   ]
  },
  {
   "cell_type": "code",
   "execution_count": 241,
   "id": "fa2da9e5-8574-43e3-8668-099b2cea9cfb",
   "metadata": {},
   "outputs": [
    {
     "data": {
      "text/html": [
       "<div>\n",
       "<style scoped>\n",
       "    .dataframe tbody tr th:only-of-type {\n",
       "        vertical-align: middle;\n",
       "    }\n",
       "\n",
       "    .dataframe tbody tr th {\n",
       "        vertical-align: top;\n",
       "    }\n",
       "\n",
       "    .dataframe thead th {\n",
       "        text-align: right;\n",
       "    }\n",
       "</style>\n",
       "<table border=\"1\" class=\"dataframe\">\n",
       "  <thead>\n",
       "    <tr style=\"text-align: right;\">\n",
       "      <th></th>\n",
       "      <th>Books</th>\n",
       "      <th>Prize</th>\n",
       "      <th>rating</th>\n",
       "    </tr>\n",
       "  </thead>\n",
       "  <tbody>\n",
       "    <tr>\n",
       "      <th>0</th>\n",
       "      <td>A Light in the Attic</td>\n",
       "      <td>51.77</td>\n",
       "      <td>[star-rating, Three]</td>\n",
       "    </tr>\n",
       "    <tr>\n",
       "      <th>1</th>\n",
       "      <td>Tipping the Velvet</td>\n",
       "      <td>53.74</td>\n",
       "      <td>[star-rating, One]</td>\n",
       "    </tr>\n",
       "    <tr>\n",
       "      <th>2</th>\n",
       "      <td>Soumission</td>\n",
       "      <td>50.10</td>\n",
       "      <td>[star-rating, One]</td>\n",
       "    </tr>\n",
       "    <tr>\n",
       "      <th>3</th>\n",
       "      <td>Sharp Objects</td>\n",
       "      <td>47.82</td>\n",
       "      <td>[star-rating, Four]</td>\n",
       "    </tr>\n",
       "    <tr>\n",
       "      <th>4</th>\n",
       "      <td>Sapiens: A Brief History of Humankind</td>\n",
       "      <td>54.23</td>\n",
       "      <td>[star-rating, Five]</td>\n",
       "    </tr>\n",
       "  </tbody>\n",
       "</table>\n",
       "</div>"
      ],
      "text/plain": [
       "                                   Books  Prize                rating\n",
       "0                   A Light in the Attic  51.77  [star-rating, Three]\n",
       "1                     Tipping the Velvet  53.74    [star-rating, One]\n",
       "2                             Soumission  50.10    [star-rating, One]\n",
       "3                          Sharp Objects  47.82   [star-rating, Four]\n",
       "4  Sapiens: A Brief History of Humankind  54.23   [star-rating, Five]"
      ]
     },
     "execution_count": 241,
     "metadata": {},
     "output_type": "execute_result"
    }
   ],
   "source": [
    "import pandas as pd\n",
    "dataa=pd.DataFrame(items ,columns=[\"Books\",\"Prize\",\"rating\"])\n",
    "dataa.head()"
   ]
  },
  {
   "cell_type": "code",
   "execution_count": 245,
   "id": "5e4c7e0b-80e8-4993-ab10-4d53d5f8bc90",
   "metadata": {},
   "outputs": [
    {
     "name": "stdout",
     "output_type": "stream",
     "text": [
      "<class 'pandas.core.frame.DataFrame'>\n",
      "RangeIndex: 1000 entries, 0 to 999\n",
      "Data columns (total 3 columns):\n",
      " #   Column  Non-Null Count  Dtype \n",
      "---  ------  --------------  ----- \n",
      " 0   Books   1000 non-null   object\n",
      " 1   Prize   1000 non-null   object\n",
      " 2   rating  1000 non-null   object\n",
      "dtypes: object(3)\n",
      "memory usage: 23.6+ KB\n"
     ]
    }
   ],
   "source": [
    "dataa.info()"
   ]
  },
  {
   "cell_type": "code",
   "execution_count": 247,
   "id": "25701605-d227-4b5f-a8f6-011ccc79e4f8",
   "metadata": {},
   "outputs": [
    {
     "data": {
      "text/html": [
       "<div>\n",
       "<style scoped>\n",
       "    .dataframe tbody tr th:only-of-type {\n",
       "        vertical-align: middle;\n",
       "    }\n",
       "\n",
       "    .dataframe tbody tr th {\n",
       "        vertical-align: top;\n",
       "    }\n",
       "\n",
       "    .dataframe thead th {\n",
       "        text-align: right;\n",
       "    }\n",
       "</style>\n",
       "<table border=\"1\" class=\"dataframe\">\n",
       "  <thead>\n",
       "    <tr style=\"text-align: right;\">\n",
       "      <th></th>\n",
       "      <th>Books</th>\n",
       "      <th>Prize</th>\n",
       "      <th>rating</th>\n",
       "    </tr>\n",
       "  </thead>\n",
       "  <tbody>\n",
       "    <tr>\n",
       "      <th>count</th>\n",
       "      <td>1000</td>\n",
       "      <td>1000</td>\n",
       "      <td>1000</td>\n",
       "    </tr>\n",
       "    <tr>\n",
       "      <th>unique</th>\n",
       "      <td>999</td>\n",
       "      <td>903</td>\n",
       "      <td>5</td>\n",
       "    </tr>\n",
       "    <tr>\n",
       "      <th>top</th>\n",
       "      <td>The Star-Touched Queen</td>\n",
       "      <td>44.18</td>\n",
       "      <td>[star-rating, One]</td>\n",
       "    </tr>\n",
       "    <tr>\n",
       "      <th>freq</th>\n",
       "      <td>2</td>\n",
       "      <td>3</td>\n",
       "      <td>226</td>\n",
       "    </tr>\n",
       "  </tbody>\n",
       "</table>\n",
       "</div>"
      ],
      "text/plain": [
       "                         Books  Prize              rating\n",
       "count                     1000   1000                1000\n",
       "unique                     999    903                   5\n",
       "top     The Star-Touched Queen  44.18  [star-rating, One]\n",
       "freq                         2      3                 226"
      ]
     },
     "execution_count": 247,
     "metadata": {},
     "output_type": "execute_result"
    }
   ],
   "source": [
    "dataa.describe()"
   ]
  },
  {
   "cell_type": "code",
   "execution_count": 259,
   "id": "912cd393-0534-4ad8-ba11-d6030f7a2751",
   "metadata": {},
   "outputs": [
    {
     "data": {
      "text/plain": [
       "<Axes: xlabel='Prize', ylabel='Books'>"
      ]
     },
     "execution_count": 259,
     "metadata": {},
     "output_type": "execute_result"
    },
    {
     "data": {
      "image/png": "[encoded data removed]",
      "text/plain": [
       "<Figure size 640x480 with 1 Axes>"
      ]
     },
     "metadata": {},
     "output_type": "display_data"
    }
   ],
   "source": [
    "import seaborn as sns \n",
    "a = df.head(10)\n",
    "sns.barplot(x=a[\"Prize\"], y=a[\"Books\"])\n"
   ]
  }
 ],
 "metadata": {
  "kernelspec": {
   "display_name": "Python [conda env:base] *",
   "language": "python",
   "name": "conda-base-py"
  },
  "language_info": {
   "codemirror_mode": {
    "name": "ipython",
    "version": 3
   },
   "file_extension": ".py",
   "mimetype": "text/x-python",
   "name": "python",
   "nbconvert_exporter": "python",
   "pygments_lexer": "ipython3",
   "version": "3.12.7"
  }
 },
 "nbformat": 4,
 "nbformat_minor": 5
}
